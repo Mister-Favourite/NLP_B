{
  "nbformat": 4,
  "nbformat_minor": 0,
  "metadata": {
    "colab": {
      "name": "Bert Process.ipynb",
      "provenance": []
    },
    "kernelspec": {
      "name": "python3",
      "display_name": "Python 3"
    },
    "language_info": {
      "name": "python"
    }
  },
  "cells": [
    {
      "cell_type": "code",
      "metadata": {
        "id": "GAOhyLZSZ4io"
      },
      "source": [
        "#!pip install tensorflow_text\n",
        "\n",
        "import math\n",
        "import numpy as np\n",
        "import pandas as pd\n",
        "import csv\n",
        "import tensorflow as tf\n",
        "import tensorflow.keras\n",
        "from tensorflow.keras import Sequential\n",
        "from tensorflow.keras.layers import Embedding, LSTM, Dense\n",
        "import tensorflow_hub as hub\n",
        "import tensorflow_text as text\n",
        "import random\n",
        "\n",
        "df_list = []\n",
        "\n",
        "def label_type(row):\n",
        "    #print(row['Type'])\n",
        "    if row['Type'] == 'Conversation' :\n",
        "      #print(0)\n",
        "      return int(0)\n",
        "    if row['Type'] == 'Intruction' :\n",
        "      #print(1)\n",
        "      return int(1)\n",
        "    if row['Type'] == 'Strategy' :\n",
        "      #print(2)\n",
        "      return int(2)\n",
        "    else:\n",
        "      return int(3)\n",
        "\n",
        "for i in range(1, 29):\n",
        "    df = pd.read_csv('Data/Data '+str(i)+'.csv', sep=',')\n",
        "    df['Num Type'] = df.apply(lambda row: label_type(row), axis=1)\n",
        "    df_list.append(df)\n",
        "    \n",
        "data_indices = list(range(28))\n",
        "random.shuffle(data_indices)\n",
        "\n",
        "train_indices = data_indices[:14]\n",
        "tuning_indices = data_indices[14:21]\n",
        "testing_indices = data_indices[21:]\n",
        "\n",
        "train_x = []\n",
        "tuning_x = []\n",
        "test_x = []\n",
        "\n",
        "train_y = []\n",
        "tuning_y = []\n",
        "test_y = []\n",
        "\n",
        "for i in train_indices:\n",
        "    #print(i)\n",
        "    df = df_list[i]\n",
        "    for j in range(len(df)):\n",
        "        #if(type(df['Utterance'][j]) == str and type(df['Type'][j]) == str):\n",
        "        if(df['Num Type'][j] != 3):\n",
        "          train_x.append(df['Utterance'][j])\n",
        "          one_hot_label = [0, 0, 0]\n",
        "          one_hot_index = int(df['Num Type'][j])\n",
        "          one_hot_label[one_hot_index] = 1\n",
        "          train_y.append(one_hot_label)\n",
        "          #train_y.append(int(df['Num Type'][j]))\n",
        "    \n",
        "\n",
        "for i in tuning_indices:\n",
        "    #print(i)\n",
        "    df = df_list[i]\n",
        "    for j in range(len(df)):\n",
        "        #if(type(df['Utterance'][j]) == str and type(df['Type'][j]) == str):\n",
        "        if(df['Num Type'][j] != 3):\n",
        "          tuning_x.append(df['Utterance'][j])\n",
        "          one_hot_label = [0, 0, 0]\n",
        "          one_hot_index = int(df['Num Type'][j])\n",
        "          one_hot_label[one_hot_index] = 1\n",
        "          tuning_y.append(one_hot_label)\n",
        "          #tuning_y.append(int(df['Num Type'][j]))\n",
        "    \n",
        "for i in testing_indices:\n",
        "    #print(i)\n",
        "    df = df_list[i]\n",
        "    for j in range(len(df)):\n",
        "        #if(type(df['Utterance'][j]) == str and type(df['Type'][j]) == str):\n",
        "        if(df['Num Type'][j] != 3):\n",
        "          test_x.append(df['Utterance'][j])\n",
        "          one_hot_label = [0, 0, 0]\n",
        "          one_hot_index = int(df['Num Type'][j])\n",
        "          one_hot_label[one_hot_index] = 1\n",
        "          test_y.append(one_hot_label)\n",
        "          #test_y.append(int(df['Num Type'][j]))\n",
        "\n",
        "#print(train_y)\n",
        "#print(np.array(train_y).shape)"
      ],
      "execution_count": 27,
      "outputs": []
    },
    {
      "cell_type": "code",
      "metadata": {
        "colab": {
          "base_uri": "https://localhost:8080/"
        },
        "id": "SLGFY3dja4BD",
        "outputId": "63ced13f-7885-4c43-f270-3de80ad7dad8"
      },
      "source": [
        "bert_preprocess_model = hub.KerasLayer('https://tfhub.dev/tensorflow/bert_en_uncased_preprocess/3')\n",
        "bert_model = hub.KerasLayer('https://tfhub.dev/tensorflow/small_bert/bert_en_uncased_L-2_H-128_A-2/1')\n",
        "\n",
        "encoder_inputs = bert_preprocess_model(train_x)\n",
        "outputs = bert_model(encoder_inputs)\n",
        "pooled_output = outputs[\"pooled_output\"]\n",
        "sequence_output = outputs[\"sequence_output\"]\n",
        "\n",
        "print(pooled_output)\n",
        "#print(sequence_output)"
      ],
      "execution_count": 28,
      "outputs": [
        {
          "output_type": "stream",
          "text": [
            "WARNING:tensorflow:5 out of the last 15 calls to <function recreate_function.<locals>.restored_function_body at 0x7fe355ff97a0> triggered tf.function retracing. Tracing is expensive and the excessive number of tracings could be due to (1) creating @tf.function repeatedly in a loop, (2) passing tensors with different shapes, (3) passing Python objects instead of tensors. For (1), please define your @tf.function outside of the loop. For (2), @tf.function has experimental_relax_shapes=True option that relaxes argument shapes that can avoid unnecessary retracing. For (3), please refer to https://www.tensorflow.org/guide/function#controlling_retracing and https://www.tensorflow.org/api_docs/python/tf/function for  more details.\n"
          ],
          "name": "stdout"
        },
        {
          "output_type": "stream",
          "text": [
            "WARNING:tensorflow:5 out of the last 15 calls to <function recreate_function.<locals>.restored_function_body at 0x7fe355ff97a0> triggered tf.function retracing. Tracing is expensive and the excessive number of tracings could be due to (1) creating @tf.function repeatedly in a loop, (2) passing tensors with different shapes, (3) passing Python objects instead of tensors. For (1), please define your @tf.function outside of the loop. For (2), @tf.function has experimental_relax_shapes=True option that relaxes argument shapes that can avoid unnecessary retracing. For (3), please refer to https://www.tensorflow.org/guide/function#controlling_retracing and https://www.tensorflow.org/api_docs/python/tf/function for  more details.\n"
          ],
          "name": "stderr"
        },
        {
          "output_type": "stream",
          "text": [
            "WARNING:tensorflow:6 out of the last 16 calls to <function recreate_function.<locals>.restored_function_body at 0x7fe368d2c290> triggered tf.function retracing. Tracing is expensive and the excessive number of tracings could be due to (1) creating @tf.function repeatedly in a loop, (2) passing tensors with different shapes, (3) passing Python objects instead of tensors. For (1), please define your @tf.function outside of the loop. For (2), @tf.function has experimental_relax_shapes=True option that relaxes argument shapes that can avoid unnecessary retracing. For (3), please refer to https://www.tensorflow.org/guide/function#controlling_retracing and https://www.tensorflow.org/api_docs/python/tf/function for  more details.\n"
          ],
          "name": "stdout"
        },
        {
          "output_type": "stream",
          "text": [
            "WARNING:tensorflow:6 out of the last 16 calls to <function recreate_function.<locals>.restored_function_body at 0x7fe368d2c290> triggered tf.function retracing. Tracing is expensive and the excessive number of tracings could be due to (1) creating @tf.function repeatedly in a loop, (2) passing tensors with different shapes, (3) passing Python objects instead of tensors. For (1), please define your @tf.function outside of the loop. For (2), @tf.function has experimental_relax_shapes=True option that relaxes argument shapes that can avoid unnecessary retracing. For (3), please refer to https://www.tensorflow.org/guide/function#controlling_retracing and https://www.tensorflow.org/api_docs/python/tf/function for  more details.\n"
          ],
          "name": "stderr"
        },
        {
          "output_type": "stream",
          "text": [
            "tf.Tensor(\n",
            "[[-0.9999991   0.06495295 -0.99964845 ...  0.999291    0.4007576\n",
            "   0.98024917]\n",
            " [-0.99999917 -0.01363813 -0.9998662  ...  0.9426693   0.85433793\n",
            "   0.99341595]\n",
            " [-0.99991035 -0.04171816 -0.99553466 ...  0.96192455  0.92402875\n",
            "   0.9995595 ]\n",
            " ...\n",
            " [-0.9999986   0.10833754 -0.99982065 ...  0.9975987   0.68492496\n",
            "   0.99724525]\n",
            " [-0.99999934  0.07703308 -0.9998719  ...  0.9961245   0.93768394\n",
            "   0.9949839 ]\n",
            " [-0.9999932   0.08750622 -0.99884933 ...  0.9968769   0.9695488\n",
            "   0.9865784 ]], shape=(1027, 128), dtype=float32)\n"
          ],
          "name": "stdout"
        }
      ]
    },
    {
      "cell_type": "code",
      "metadata": {
        "colab": {
          "base_uri": "https://localhost:8080/",
          "height": 1000
        },
        "id": "EDM1PaUD0XA5",
        "outputId": "f5340c42-9865-469e-e710-5f86f462a3ca"
      },
      "source": [
        "model = tf.keras.Sequential()\n",
        "model.add(tf.keras.layers.Dense(40, activation='sigmoid'))\n",
        "model.add(tf.keras.layers.Dense(20, activation='sigmoid'))\n",
        "model.add(tf.keras.layers.Dense(3, activation='softmax'))\n",
        "model.compile(loss='CategoricalCrossentropy', optimizer='adam', metrics=['CategoricalAccuracy', 'CategoricalCrossentropy'])\n",
        "\n",
        "y_pred = model.fit(pooled_output, np.array(train_y), epochs=20, batch_size=20)\n",
        "\n",
        "print(y_pred)\n",
        "tf.keras.utils.plot_model(model)"
      ],
      "execution_count": 43,
      "outputs": [
        {
          "output_type": "stream",
          "text": [
            "Epoch 1/20\n",
            "52/52 [==============================] - 1s 2ms/step - loss: 0.4854 - categorical_accuracy: 0.9723 - categorical_crossentropy: 0.4854\n",
            "Epoch 2/20\n",
            "52/52 [==============================] - 0s 1ms/step - loss: 0.1739 - categorical_accuracy: 0.9645 - categorical_crossentropy: 0.1739\n",
            "Epoch 3/20\n",
            "52/52 [==============================] - 0s 1ms/step - loss: 0.1320 - categorical_accuracy: 0.9743 - categorical_crossentropy: 0.1320\n",
            "Epoch 4/20\n",
            "52/52 [==============================] - 0s 2ms/step - loss: 0.1238 - categorical_accuracy: 0.9756 - categorical_crossentropy: 0.1238\n",
            "Epoch 5/20\n",
            "52/52 [==============================] - 0s 2ms/step - loss: 0.1399 - categorical_accuracy: 0.9704 - categorical_crossentropy: 0.1399\n",
            "Epoch 6/20\n",
            "52/52 [==============================] - 0s 2ms/step - loss: 0.1480 - categorical_accuracy: 0.9676 - categorical_crossentropy: 0.1480\n",
            "Epoch 7/20\n",
            "52/52 [==============================] - 0s 1ms/step - loss: 0.1138 - categorical_accuracy: 0.9771 - categorical_crossentropy: 0.1138\n",
            "Epoch 8/20\n",
            "52/52 [==============================] - 0s 2ms/step - loss: 0.1286 - categorical_accuracy: 0.9725 - categorical_crossentropy: 0.1286\n",
            "Epoch 9/20\n",
            "52/52 [==============================] - 0s 1ms/step - loss: 0.1294 - categorical_accuracy: 0.9720 - categorical_crossentropy: 0.1294\n",
            "Epoch 10/20\n",
            "52/52 [==============================] - 0s 1ms/step - loss: 0.1150 - categorical_accuracy: 0.9757 - categorical_crossentropy: 0.1150\n",
            "Epoch 11/20\n",
            "52/52 [==============================] - 0s 2ms/step - loss: 0.1270 - categorical_accuracy: 0.9721 - categorical_crossentropy: 0.1270\n",
            "Epoch 12/20\n",
            "52/52 [==============================] - 0s 2ms/step - loss: 0.1420 - categorical_accuracy: 0.9668 - categorical_crossentropy: 0.1420\n",
            "Epoch 13/20\n",
            "52/52 [==============================] - 0s 2ms/step - loss: 0.0962 - categorical_accuracy: 0.9805 - categorical_crossentropy: 0.0962\n",
            "Epoch 14/20\n",
            "52/52 [==============================] - 0s 2ms/step - loss: 0.1084 - categorical_accuracy: 0.9773 - categorical_crossentropy: 0.1084\n",
            "Epoch 15/20\n",
            "52/52 [==============================] - 0s 2ms/step - loss: 0.1085 - categorical_accuracy: 0.9765 - categorical_crossentropy: 0.1085\n",
            "Epoch 16/20\n",
            "52/52 [==============================] - 0s 1ms/step - loss: 0.1172 - categorical_accuracy: 0.9728 - categorical_crossentropy: 0.1172\n",
            "Epoch 17/20\n",
            "52/52 [==============================] - 0s 2ms/step - loss: 0.0925 - categorical_accuracy: 0.9799 - categorical_crossentropy: 0.0925\n",
            "Epoch 18/20\n",
            "52/52 [==============================] - 0s 2ms/step - loss: 0.1179 - categorical_accuracy: 0.9732 - categorical_crossentropy: 0.1179\n",
            "Epoch 19/20\n",
            "52/52 [==============================] - 0s 2ms/step - loss: 0.1305 - categorical_accuracy: 0.9664 - categorical_crossentropy: 0.1305\n",
            "Epoch 20/20\n",
            "52/52 [==============================] - 0s 1ms/step - loss: 0.1016 - categorical_accuracy: 0.9757 - categorical_crossentropy: 0.1016\n",
            "<tensorflow.python.keras.callbacks.History object at 0x7fe3688be750>\n"
          ],
          "name": "stdout"
        },
        {
          "output_type": "execute_result",
          "data": {
            "image/png": "[encoded data removed]",
            "text/plain": [
              "<IPython.core.display.Image object>"
            ]
          },
          "metadata": {
            "tags": []
          },
          "execution_count": 43
        }
      ]
    },
    {
      "cell_type": "code",
      "metadata": {
        "colab": {
          "base_uri": "https://localhost:8080/"
        },
        "id": "I94YPyi7Bl-P",
        "outputId": "c9fd57af-4e89-4378-acf7-65ab57741797"
      },
      "source": [
        "encoder_tuning = bert_preprocess_model(tuning_x)\n",
        "outputs_tuning = bert_model(encoder_tuning)\n",
        "pooled_output_tuning = outputs_tuning[\"pooled_output\"]\n",
        "\n",
        "y_tuning_pred = model.predict(pooled_output_tuning)\n",
        "score_pred = tf.keras.losses.CategoricalCrossentropy()\n",
        "\n",
        "print(y_tuning_pred)\n",
        "print('\\nTuning Categorical Cross Entropy:')\n",
        "score_pred(tuning_y, y_tuning_pred).numpy()"
      ],
      "execution_count": 50,
      "outputs": [
        {
          "output_type": "stream",
          "text": [
            "[[9.55062389e-01 1.66236307e-03 4.32752892e-02]\n",
            " [9.26788390e-01 2.27857637e-03 7.09330216e-02]\n",
            " [9.49020982e-01 1.85750006e-03 4.91214842e-02]\n",
            " ...\n",
            " [8.92072082e-01 2.87015736e-03 1.05057664e-01]\n",
            " [9.82299268e-01 1.01113517e-03 1.66895408e-02]\n",
            " [9.87313688e-01 8.39197659e-04 1.18471133e-02]]\n",
            "\n",
            "Tuning Categorical Cross Entropy:\n"
          ],
          "name": "stdout"
        },
        {
          "output_type": "execute_result",
          "data": {
            "text/plain": [
              "0.110847555"
            ]
          },
          "metadata": {
            "tags": []
          },
          "execution_count": 50
        }
      ]
    },
    {
      "cell_type": "code",
      "metadata": {
        "colab": {
          "base_uri": "https://localhost:8080/"
        },
        "id": "IfbVXyLDQuJa",
        "outputId": "b430ee7b-3f21-444e-9ce6-9dd8f9fd91d1"
      },
      "source": [
        "def probability_class_assignment(vec):\n",
        "  for i in range(len(vec)):\n",
        "    if vec[i][0] > vec[i][1] and vec[i][0] > vec[i][2]:\n",
        "      vec[i][0] = 1\n",
        "      vec[i][1] = 0\n",
        "      vec[i][2] = 0\n",
        "    elif vec[i][1] > vec[i][2]:\n",
        "      vec[i][0] = 0\n",
        "      vec[i][1] = 1\n",
        "      vec[i][2] = 0\n",
        "    else:\n",
        "      vec[i][0] = 0\n",
        "      vec[i][1] = 0\n",
        "      vec[i][2] = 1\n",
        "  return np.array(vec)\n",
        "\n",
        "y_tuning_pred_one_hot = probability_class_assignment(y_tuning_pred)\n",
        "print(y_tuning_pred)"
      ],
      "execution_count": 58,
      "outputs": [
        {
          "output_type": "stream",
          "text": [
            "[[1. 0. 0.]\n",
            " [1. 0. 0.]\n",
            " [1. 0. 0.]\n",
            " ...\n",
            " [1. 0. 0.]\n",
            " [1. 0. 0.]\n",
            " [1. 0. 0.]]\n"
          ],
          "name": "stdout"
        }
      ]
    },
    {
      "cell_type": "code",
      "metadata": {
        "colab": {
          "base_uri": "https://localhost:8080/"
        },
        "id": "vNh4ThO5Xtn0",
        "outputId": "cc397b50-62f2-4971-f09f-343a24e657c8"
      },
      "source": [
        "tuning_counts = np.array(tuning_y).sum(axis=0)\n",
        "tuning_counts_pred = y_tuning_pred_one_hot.sum(axis=0)\n",
        "\n",
        "print('Original Count of Conversational Utterances:',tuning_counts[0])\n",
        "print('Predicted Count of Conversational Utterances:',tuning_counts_pred[0])\n",
        "\n",
        "print(\"Original Count of Instructional Utterances:\",tuning_counts[1])\n",
        "print(\"Predicted Count of Instructional Utterances:\",tuning_counts_pred[1])\n",
        "\n",
        "print(\"Original Count of Strategy Utterances\",tuning_counts[2])\n",
        "print(\"Predicted Count of Strategy Utterances\",tuning_counts_pred[2])"
      ],
      "execution_count": 64,
      "outputs": [
        {
          "output_type": "stream",
          "text": [
            "[906   0  23]\n",
            "[929.   0.   0.]\n",
            "Original Count of Conversational Utterances: 906\n",
            "Predicted Count of Conversational Utterances: 929.0\n",
            "Original Count of Instructional Utterances: 0\n",
            "Predicted Count of Instructional Utterances: 0.0\n",
            "Original Count of Strategy Utterances 23\n",
            "Predicted Count of Strategy Utterances 0.0\n"
          ],
          "name": "stdout"
        }
      ]
    },
    {
      "cell_type": "code",
      "metadata": {
        "colab": {
          "base_uri": "https://localhost:8080/"
        },
        "id": "wfXl86l_cCcB",
        "outputId": "5a3baf59-e8f2-4802-de85-6f6253c85ef9"
      },
      "source": [
        "#Test Set\n",
        "encoder_test = bert_preprocess_model(test_x)\n",
        "outputs_test = bert_model(encoder_test)\n",
        "pooled_output_test = outputs_test[\"pooled_output\"]\n",
        "\n",
        "y_test_pred = model.predict(pooled_output_test)\n",
        "\n",
        "print(y_test_pred)\n",
        "print('\\nTuning Categorical Cross Entropy:')\n",
        "score_pred(test_y, y_test_pred).numpy()"
      ],
      "execution_count": 65,
      "outputs": [
        {
          "output_type": "stream",
          "text": [
            "[[9.8616272e-01 8.8960264e-04 1.2947710e-02]\n",
            " [9.1338903e-01 2.4812615e-03 8.4129654e-02]\n",
            " [9.3281847e-01 2.0813078e-03 6.5100156e-02]\n",
            " ...\n",
            " [9.7835118e-01 1.1336766e-03 2.0515140e-02]\n",
            " [9.8481989e-01 9.3762111e-04 1.4242478e-02]\n",
            " [9.8620808e-01 8.8952517e-04 1.2902401e-02]]\n",
            "\n",
            "Tuning Categorical Cross Entropy:\n"
          ],
          "name": "stdout"
        },
        {
          "output_type": "execute_result",
          "data": {
            "text/plain": [
              "0.07577699"
            ]
          },
          "metadata": {
            "tags": []
          },
          "execution_count": 65
        }
      ]
    },
    {
      "cell_type": "code",
      "metadata": {
        "colab": {
          "base_uri": "https://localhost:8080/"
        },
        "id": "JmF92ZF1cWgL",
        "outputId": "2281c964-7277-45ef-bf41-0a3866a59ade"
      },
      "source": [
        "y_test_pred_one_hot = probability_class_assignment(y_test_pred)\n",
        "print(y_test_pred)\n",
        "\n",
        "test_counts = np.array(test_y).sum(axis=0)\n",
        "test_counts_pred = y_test_pred_one_hot.sum(axis=0)\n",
        "\n",
        "print('Original Count of Conversational Utterances:',test_counts[0])\n",
        "print('Predicted Count of Conversational Utterances:',test_counts_pred[0])\n",
        "\n",
        "print(\"Original Count of Instructional Utterances:\",test_counts[1])\n",
        "print(\"Predicted Count of Instructional Utterances:\",test_counts_pred[1])\n",
        "\n",
        "print(\"Original Count of Strategy Utterances\",test_counts[2])\n",
        "print(\"Predicted Count of Strategy Utterances\",test_counts_pred[2])"
      ],
      "execution_count": 66,
      "outputs": [
        {
          "output_type": "stream",
          "text": [
            "[[1. 0. 0.]\n",
            " [1. 0. 0.]\n",
            " [1. 0. 0.]\n",
            " ...\n",
            " [1. 0. 0.]\n",
            " [1. 0. 0.]\n",
            " [1. 0. 0.]]\n",
            "Original Count of Conversational Utterances: 675\n",
            "Predicted Count of Conversational Utterances: 684.0\n",
            "Original Count of Instructional Utterances: 0\n",
            "Predicted Count of Instructional Utterances: 0.0\n",
            "Original Count of Strategy Utterances 9\n",
            "Predicted Count of Strategy Utterances 0.0\n"
          ],
          "name": "stdout"
        }
      ]
    }
  ]
}
